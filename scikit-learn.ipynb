{
 "cells": [
  {
   "cell_type": "markdown",
   "metadata": {},
   "source": [
    "# Scikit Learn"
   ]
  },
  {
   "cell_type": "code",
   "execution_count": 6,
   "metadata": {},
   "outputs": [
    {
     "name": "stdout",
     "output_type": "stream",
     "text": [
      "/bin/bash: -c: line 0: syntax error near unexpected token `https://scikit-learn.org/stable/index.html'\n",
      "/bin/bash: -c: line 0: `[\"images/scikit-learn-logo.png\"](https://scikit-learn.org/stable/index.html)'\n"
     ]
    }
   ],
   "source": [
    "![\"images/scikit-learn-logo.png\"](https://scikit-learn.org/stable/index.html)"
   ]
  },
  {
   "cell_type": "markdown",
   "metadata": {},
   "source": [
    "## 1.0 Introduction\n",
    "\n",
    "Scikit-learn (Sklearn) is a free open-source machine learning library in Python and is currently one of the most popular machine learning libaries on github. It provides a selection of efficient tools for machine learning & statistical modeling including classification, regression, clustering and dimensionality reduction via a consistence interface in Python. [1](#References)\n",
    "\n",
    "The library is built upon the [SciPy (Scientific Python)](https://www.scipy.org/) & intergrates well with many other Python libraries, such as Matplotlib, NumPy & Pandas."
   ]
  },
  {
   "cell_type": "markdown",
   "metadata": {},
   "source": [
    "### Machine Learning\n",
    "\n",
    "Machine learning involves the creation of computational models or algorithms from data, that tries to derive rules or procedures to explain the data or to predict future data.\n",
    "\n",
    "The more data the system is presented with, the more refined the model. The quality of the learned model is also dependent on the quality of the data used to train it. [2](#References)\n",
    "\n",
    "Three important categories of machine learning are:\n",
    "\n",
    "1. **Supervised learning** - Models which are trained with known labeled data sets, the trained algorithm produces an inferred function to make predictions about the output values for unknown input values.\n",
    "\n",
    "2. **Unsupervised learning** - Models which use data that is neither classified nor labeled, the algorithm explores the data & can draw inferences from datasets to describe hidden structures, patterns or natural groupings.\n",
    "\n",
    "3. **Reinforcement learning** - models trained through trial and error to take the best action by establishing a reward system.\n"
   ]
  },
  {
   "cell_type": "markdown",
   "metadata": {},
   "source": [
    "### Scikit Learn Features\n",
    "The library is focused on modeling data. It is not focused on loading, manipulating and summarizing data. \n",
    "\n",
    "Some of the groups of models provided by Sklearn include:\n",
    "\n",
    "1. **Supervised Learning algorithms** − Linear Regression, Logistic Regression, Support Vector Machine (SVM), Decision Tree, Random Forest, k-nearest neighbors (KNN).\n",
    "2. **Unsupervised Learning algorithms** − K-Means, Factor Analysis, Principal Component Analysis (PCA).\n",
    "3. **Clustering** − dividing of unlabeled data into groups or clusters such that the data points within the have similar features.\n",
    "4. **Cross Validation** − checks the accuracy of supervised models on unseen data.\n",
    "5. **Dimensionality Reduction** − reducing the number of attributes in data which can be further used for summarisation, visualisation and feature selection.\n",
    "6. **Ensemble methods** − combining the predictions of multiple supervised models.\n",
    "7. **Feature extraction** − extracts the features from data to define the attributes in image and text data.\n",
    "8. **Feature selection** − identify useful attributes to create supervised models."
   ]
  },
  {
   "cell_type": "markdown",
   "metadata": {},
   "source": [
    "## References\n",
    "\n",
    "[1] [www.tutorialspoint.com, Scikit Learn - Introduction](https://www.tutorialspoint.com/scikit_learn/scikit_learn_introduction.htm)\n",
    "\n",
    "[2] [ARTIFICIAL INTELLIGENCE AND THE FUTURE OF WORK, THOMAS W. MALONE](https://workofthefuture.mit.edu/wp-content/uploads/2020/12/2020-Research-Brief-Malone-Rus-Laubacher2.pdf)\n",
    "\n",
    "https://jakevdp.github.io/PythonDataScienceHandbook/05.02-introducing-scikit-learn.html\n",
    "\n",
    "https://www.educative.io/blog/scikit-learn-cheat-sheet-classification-regression-methods"
   ]
  },
  {
   "cell_type": "code",
   "execution_count": null,
   "metadata": {},
   "outputs": [],
   "source": []
  }
 ],
 "metadata": {
  "kernelspec": {
   "display_name": "Python 3",
   "language": "python",
   "name": "python3"
  },
  "language_info": {
   "codemirror_mode": {
    "name": "ipython",
    "version": 3
   },
   "file_extension": ".py",
   "mimetype": "text/x-python",
   "name": "python",
   "nbconvert_exporter": "python",
   "pygments_lexer": "ipython3",
   "version": "3.8.3"
  }
 },
 "nbformat": 4,
 "nbformat_minor": 4
}
